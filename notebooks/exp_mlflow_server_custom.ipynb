{
 "cells": [
  {
   "cell_type": "code",
   "execution_count": 1,
   "metadata": {
    "colab": {
     "base_uri": "https://localhost:8080/"
    },
    "id": "eICTWNcxx0iD",
    "outputId": "0fb0c0d8-4722-442c-820e-015522a92f41"
   },
   "outputs": [],
   "source": [
    "# load necessary modules\n",
    "\n",
    "import numpy as np\n",
    "import pandas as pd\n",
    "import matplotlib.pyplot as plt\n",
    "import category_encoders as ce\n",
    "import mlflow\n",
    "\n",
    "from sklearn import metrics\n",
    "from sklearn import datasets\n",
    "from sklearn import preprocessing\n",
    "from sklearn.linear_model import LogisticRegression\n",
    "from sklearn.model_selection import train_test_split\n",
    "from sklearn.preprocessing import StandardScaler\n",
    "from sklearn.pipeline import Pipeline\n",
    "\n",
    "# load data\n",
    "df = pd.read_csv('../data/penguins.csv')\n",
    "\n",
    "# data preprocessing\n",
    "df=df.drop_duplicates()\n",
    "df.dropna(axis=0,inplace=True)\n",
    "\n",
    "# one hot encoding - nominal data\n",
    "encoder=ce.OneHotEncoder(cols=['species','island'],handle_unknown='return_nan', return_df=True,use_cat_names=True)\n",
    "df_enc=encoder.fit_transform(df)\n",
    "\n",
    "# add a new column with labels\n",
    "df_enc.loc[df_enc.sex == 'male', 'label'] = int(1)\n",
    "df_enc.loc[df_enc.sex == 'female', 'label'] = int(0)\n",
    "df_enc['label'].astype('float')\n",
    "\n",
    "# check number of males/females to inspect if dataset is imbalanced\n",
    "df_enc['label'].value_counts()\n",
    "\n",
    "# get labels\n",
    "labels = df_enc[['label']]\n",
    "y = labels.to_numpy().reshape(-1,)\n",
    "\n",
    "# drop useless columns\n",
    "df_enc.drop(columns=['rowid','sex'],axis=1,inplace=True)\n",
    "\n",
    "# get features\n",
    "X = df_enc.iloc[:,:11].values\n",
    "\n",
    "# split dataset into training and validation sets\n",
    "X_train, X_val, y_train, y_val = train_test_split(X, y, test_size=0.2, shuffle=True, stratify=y, random_state=42)"
   ]
  },
  {
   "cell_type": "code",
   "execution_count": 2,
   "metadata": {},
   "outputs": [
    {
     "name": "stdout",
     "output_type": "stream",
     "text": [
      "tracking URI: 'file:///Users/mikhailkuklin/repos/mlfow_tracking_example/notebooks/mlruns'\n"
     ]
    },
    {
     "data": {
      "text/plain": [
       "[<Experiment: artifact_location='file:///Users/mikhailkuklin/repos/mlfow_tracking_example/notebooks/mlruns/0', experiment_id='0', lifecycle_stage='active', name='Default', tags={}>]"
      ]
     },
     "execution_count": 2,
     "metadata": {},
     "output_type": "execute_result"
    }
   ],
   "source": [
    "print(f\"tracking URI: '{mlflow.get_tracking_uri()}'\")\n",
    "mlflow.list_experiments()"
   ]
  },
  {
   "cell_type": "code",
   "execution_count": 3,
   "metadata": {},
   "outputs": [],
   "source": [
    "def train_log_reg(X_train, y_train):\n",
    "      scaler = StandardScaler()\n",
    "      log_reg = LogisticRegression(C=0.01,\n",
    "                                    fit_intercept=True, intercept_scaling=1,\n",
    "                                    max_iter=100,\n",
    "                                    multi_class='ovr', \n",
    "                                    penalty='l2', \n",
    "                                    solver='lbfgs', tol=0.0001)\n",
    "      pipe_def_model = Pipeline([('scaler', scaler), ('log_reg', log_reg)])\n",
    "      pipe_def_model.fit(X_train, y_train)\n",
    "\n",
    "      return pipe_def_model"
   ]
  },
  {
   "cell_type": "code",
   "execution_count": 4,
   "metadata": {},
   "outputs": [],
   "source": [
    "def predict(model, X_val):\n",
    "      y_pred = model.predict(X_val)\n",
    "      return y_pred"
   ]
  },
  {
   "cell_type": "code",
   "execution_count": 5,
   "metadata": {},
   "outputs": [],
   "source": [
    "def predict_prob(model, X_val):\n",
    "      y_pred = model.predict_proba(X_val)\n",
    "      return y_pred"
   ]
  },
  {
   "cell_type": "code",
   "execution_count": 14,
   "metadata": {},
   "outputs": [],
   "source": [
    "def get_metrics(y_true, y_pred, y_pred_proba):\n",
    "      from sklearn.metrics import accuracy_score,precision_score,recall_score,log_loss\n",
    "      acc = accuracy_score(y_true, y_pred)\n",
    "      prec = precision_score(y_true, y_pred)\n",
    "      recall = recall_score(y_true, y_pred)\n",
    "      entropy = log_loss(y_true, y_pred_proba)\n",
    "\n",
    "      return {'accuracy': acc, 'precision': prec, 'recall': recall, 'entropy': entropy}"
   ]
  },
  {
   "cell_type": "code",
   "execution_count": 7,
   "metadata": {},
   "outputs": [],
   "source": [
    "def get_confusion_matrix(clf, X_val, y_val):\n",
    "      plot.confusion_matrix(clf, X_val, y_val)\n",
    "      plt.savefig('confusion_matrix.png')"
   ]
  },
  {
   "cell_type": "code",
   "execution_count": 15,
   "metadata": {},
   "outputs": [],
   "source": [
    "model =  train_log_reg(X_train, y_train)\n",
    "\n",
    "y_pred = predict(model, X_val)\n",
    "\n",
    "y_pred_proba = predict_prob(model, X_val)\n",
    "\n",
    "metrics_run = get_metrics(y_val, y_pred, y_pred_proba)"
   ]
  },
  {
   "cell_type": "code",
   "execution_count": 16,
   "metadata": {},
   "outputs": [
    {
     "data": {
      "text/plain": [
       "{'accuracy': 0.8805970149253731,\n",
       " 'precision': 0.8421052631578947,\n",
       " 'recall': 0.9411764705882353,\n",
       " 'entropy': 0.5198353321439548}"
      ]
     },
     "execution_count": 16,
     "metadata": {},
     "output_type": "execute_result"
    }
   ],
   "source": []
  },
  {
   "cell_type": "code",
   "execution_count": 5,
   "metadata": {},
   "outputs": [
    {
     "name": "stdout",
     "output_type": "stream",
     "text": [
      "Accuracy of classification: 90.69%\n",
      "Training error: 0.9135338345864662\n",
      "Validation error: 0.8805970149253731\n"
     ]
    },
    {
     "ename": "",
     "evalue": "",
     "output_type": "error",
     "traceback": [
      "The Kernel crashed while executing code in the the current cell or a previous cell. Please review the code in the cell(s) to identify a possible cause of the failure. Click <a href='https://aka.ms/vscodeJupyterKernelCrash'>here</a> for more info. View Jupyter <a href='command:jupyter.viewOutput'>log</a> for further details."
     ]
    }
   ],
   "source": [
    "mlflow.set_tracking_uri('http://127.0.0.1:5000')\n",
    "mlflow.set_experiment('penguins_log_reg_v2')\n",
    "\n",
    "# standartization, fitting and estimation of the errors\n",
    "scaler = StandardScaler()\n",
    "log_reg = LogisticRegression(C=0.01,\n",
    "                                    fit_intercept=True, intercept_scaling=1,\n",
    "                                    max_iter=100,\n",
    "                                    multi_class='ovr', \n",
    "                                    penalty='l2', \n",
    "                                    solver='lbfgs', tol=0.0001)\n",
    "pipe_def_model = Pipeline([('scaler', scaler), ('log_reg', log_reg)])\n",
    "pipe_def_model.fit(X_train, y_train)\n",
    "err_train_def_model = pipe_def_model.score(X_train, y_train)\n",
    "err_val_def_model = pipe_def_model.score(X_val, y_val)\n",
    "y_pred_def_model = pipe_def_model.predict(X)\n",
    "accuracy_def_model = pipe_def_model.score(X, y)\n",
    "\n",
    "# printing\n",
    "print(f\"Accuracy of classification: {round(100*accuracy_def_model, 2)}%\")\n",
    "print(f\"Training error: {err_train_def_model}\")\n",
    "print(f\"Validation error: {err_val_def_model}\")"
   ]
  }
 ],
 "metadata": {
  "colab": {
   "collapsed_sections": [],
   "name": "logistic_regression_github.ipynb",
   "provenance": []
  },
  "kernelspec": {
   "display_name": "Python 3.9.13 ('mlflow_tacking-env')",
   "language": "python",
   "name": "python3"
  },
  "language_info": {
   "codemirror_mode": {
    "name": "ipython",
    "version": 3
   },
   "file_extension": ".py",
   "mimetype": "text/x-python",
   "name": "python",
   "nbconvert_exporter": "python",
   "pygments_lexer": "ipython3",
   "version": "3.9.13"
  },
  "vscode": {
   "interpreter": {
    "hash": "b944a1fdf3a20e1ceb0d2114ee9ff00af634094778e409bc83aea844a1fd5769"
   }
  }
 },
 "nbformat": 4,
 "nbformat_minor": 4
}
