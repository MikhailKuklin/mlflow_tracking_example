{
 "cells": [
  {
   "cell_type": "code",
   "execution_count": 1,
   "metadata": {
    "colab": {
     "base_uri": "https://localhost:8080/"
    },
    "id": "eICTWNcxx0iD",
    "outputId": "0fb0c0d8-4722-442c-820e-015522a92f41"
   },
   "outputs": [],
   "source": [
    "# load necessary modules\n",
    "\n",
    "import numpy as np\n",
    "import pandas as pd\n",
    "import matplotlib.pyplot as plt\n",
    "import category_encoders as ce\n",
    "import mlflow\n",
    "\n",
    "from sklearn import metrics\n",
    "from sklearn.metrics import plot_confusion_matrix\n",
    "from sklearn import datasets\n",
    "from sklearn import preprocessing\n",
    "from sklearn.linear_model import LogisticRegression\n",
    "from sklearn.model_selection import train_test_split\n",
    "from sklearn.preprocessing import StandardScaler\n",
    "from sklearn.pipeline import Pipeline\n",
    "\n",
    "# load data\n",
    "df = pd.read_csv('../data/penguins.csv')\n",
    "\n",
    "# data preprocessing\n",
    "df=df.drop_duplicates()\n",
    "df.dropna(axis=0,inplace=True)\n",
    "\n",
    "# one hot encoding - nominal data\n",
    "encoder=ce.OneHotEncoder(cols=['species','island'],handle_unknown='return_nan', return_df=True,use_cat_names=True)\n",
    "df_enc=encoder.fit_transform(df)\n",
    "\n",
    "# add a new column with labels\n",
    "df_enc.loc[df_enc.sex == 'male', 'label'] = int(1)\n",
    "df_enc.loc[df_enc.sex == 'female', 'label'] = int(0)\n",
    "df_enc['label'].astype('float')\n",
    "\n",
    "# check number of males/females to inspect if dataset is imbalanced\n",
    "df_enc['label'].value_counts()\n",
    "\n",
    "# get labels\n",
    "labels = df_enc[['label']]\n",
    "y = labels.to_numpy().reshape(-1,)\n",
    "\n",
    "# drop useless columns\n",
    "df_enc.drop(columns=['rowid','sex'],axis=1,inplace=True)\n",
    "\n",
    "# get features\n",
    "X = df_enc.iloc[:,:11].values\n",
    "\n",
    "# split dataset into training and validation sets\n",
    "X_train, X_val, y_train, y_val = train_test_split(X, y, test_size=0.2, shuffle=True, stratify=y, random_state=42)"
   ]
  },
  {
   "cell_type": "code",
   "execution_count": 2,
   "metadata": {},
   "outputs": [
    {
     "name": "stdout",
     "output_type": "stream",
     "text": [
      "tracking URI: 'file:///Users/mikhailkuklin/repos/mlfow_tracking_example/notebooks/mlruns'\n"
     ]
    },
    {
     "data": {
      "text/plain": [
       "[<Experiment: artifact_location='./mlruns/0', experiment_id='0', lifecycle_stage='active', name='Default', tags={}>,\n",
       " <Experiment: artifact_location='file:///Users/mikhailkuklin/repos/mlfow_tracking_example/notebooks/mlruns/1', experiment_id='1', lifecycle_stage='active', name='penguins_log_reg_v3', tags={}>,\n",
       " <Experiment: artifact_location='./mlruns/4', experiment_id='4', lifecycle_stage='active', name='penguins_log_reg_v5', tags={}>,\n",
       " <Experiment: artifact_location='./mlruns/3', experiment_id='3', lifecycle_stage='active', name='penguins_log_reg_v4', tags={}>,\n",
       " <Experiment: artifact_location='./mlruns/2', experiment_id='2', lifecycle_stage='active', name='penguins_log_reg_v2', tags={}>,\n",
       " <Experiment: artifact_location='./mlruns/5', experiment_id='5', lifecycle_stage='active', name='penguins_log_reg_v6', tags={}>]"
      ]
     },
     "execution_count": 2,
     "metadata": {},
     "output_type": "execute_result"
    }
   ],
   "source": [
    "print(f\"tracking URI: '{mlflow.get_tracking_uri()}'\")\n",
    "mlflow.list_experiments()"
   ]
  },
  {
   "cell_type": "code",
   "execution_count": 3,
   "metadata": {},
   "outputs": [],
   "source": [
    "def train_log_reg(X_train, y_train, regularization):\n",
    "      np.random.seed(0)\n",
    "      scaler = StandardScaler()\n",
    "      log_reg = LogisticRegression(C=1, dual=False,\n",
    "                                    fit_intercept=True, intercept_scaling=1,\n",
    "                                    l1_ratio=None, max_iter=100,\n",
    "                                    multi_class='ovr', n_jobs=None,\n",
    "                                    penalty='l2', random_state=None,\n",
    "                                    solver='lbfgs', tol=0.0001, verbose=0,\n",
    "                                    warm_start=False)\n",
    "      pipe_def_model = Pipeline([('scaler', scaler), ('log_reg', log_reg)])\n",
    "      pipe_def_model.fit(X_train, y_train)\n",
    "\n",
    "      return pipe_def_model"
   ]
  },
  {
   "cell_type": "code",
   "execution_count": 10,
   "metadata": {},
   "outputs": [],
   "source": [
    "def predict(model, X):\n",
    "      y_pred = model.predict(X)\n",
    "      return y_pred"
   ]
  },
  {
   "cell_type": "code",
   "execution_count": 11,
   "metadata": {},
   "outputs": [],
   "source": [
    "def predict_prob(model, X):\n",
    "      y_pred = model.predict_proba(X)\n",
    "      return y_pred"
   ]
  },
  {
   "cell_type": "code",
   "execution_count": 12,
   "metadata": {},
   "outputs": [],
   "source": [
    "def get_metrics_train(y_true, y_pred, y_pred_proba):\n",
    "      from sklearn.metrics import accuracy_score,precision_score,recall_score, f1_score, log_loss\n",
    "      acc = accuracy_score(y_true, y_pred)\n",
    "      prec = precision_score(y_true, y_pred)\n",
    "      recall = recall_score(y_true, y_pred)\n",
    "      f1_s= f1_score(y_true, y_pred)\n",
    "\n",
    "      return {'train-accuracy': acc, 'train-precision': prec, 'train-recall': recall, 'train-f1-score': f1_s}"
   ]
  },
  {
   "cell_type": "code",
   "execution_count": 13,
   "metadata": {},
   "outputs": [],
   "source": [
    "def get_metrics_val(y_true, y_pred, y_pred_proba):\n",
    "      from sklearn.metrics import accuracy_score,precision_score,recall_score, f1_score, log_loss\n",
    "      acc = accuracy_score(y_true, y_pred)\n",
    "      prec = precision_score(y_true, y_pred)\n",
    "      recall = recall_score(y_true, y_pred)\n",
    "      f1_s= f1_score(y_true, y_pred)\n",
    "\n",
    "      return {'val-accuracy': acc, 'val-precision': prec, 'val-recall': recall, 'val-f1-score': f1_s}"
   ]
  },
  {
   "cell_type": "code",
   "execution_count": 14,
   "metadata": {},
   "outputs": [],
   "source": [
    "def get_confusion_matrix(clf, X_val, y_val, name):\n",
    "      plot_confusion_matrix(clf, X_val, y_val)\n",
    "      plt.savefig(name)"
   ]
  },
  {
   "cell_type": "code",
   "execution_count": 18,
   "metadata": {},
   "outputs": [
    {
     "name": "stderr",
     "output_type": "stream",
     "text": [
      "2022/08/24 18:54:06 INFO mlflow.tracking.fluent: Experiment with name 'penguins_log_reg_v9' does not exist. Creating a new experiment.\n",
      "/Users/mikhailkuklin/miniforge3/envs/mlflow_tacking-env/lib/python3.9/site-packages/sklearn/utils/deprecation.py:87: FutureWarning: Function plot_confusion_matrix is deprecated; Function `plot_confusion_matrix` is deprecated in 1.0 and will be removed in 1.2. Use one of the class methods: ConfusionMatrixDisplay.from_predictions or ConfusionMatrixDisplay.from_estimator.\n",
      "  warnings.warn(msg, category=FutureWarning)\n",
      "/Users/mikhailkuklin/miniforge3/envs/mlflow_tacking-env/lib/python3.9/site-packages/sklearn/utils/deprecation.py:87: FutureWarning: Function plot_confusion_matrix is deprecated; Function `plot_confusion_matrix` is deprecated in 1.0 and will be removed in 1.2. Use one of the class methods: ConfusionMatrixDisplay.from_predictions or ConfusionMatrixDisplay.from_estimator.\n",
      "  warnings.warn(msg, category=FutureWarning)\n"
     ]
    },
    {
     "data": {
      "image/png": "[encoded data removed]",
      "text/plain": [
       "<Figure size 640x480 with 2 Axes>"
      ]
     },
     "metadata": {},
     "output_type": "display_data"
    },
    {
     "data": {
      "image/png": "[encoded data removed]",
      "text/plain": [
       "<Figure size 640x480 with 2 Axes>"
      ]
     },
     "metadata": {},
     "output_type": "display_data"
    }
   ],
   "source": [
    "mlflow.set_experiment('penguins_log_reg_v9')\n",
    "\n",
    "model =  train_log_reg(X_train, y_train, 0.01)\n",
    "\n",
    "# training set\n",
    "y_pred_train = predict(model, X_train)\n",
    "y_pred_proba_train = predict_prob(model, X_train)\n",
    "metrics_train = get_metrics_train(y_train, y_pred_train, y_pred_proba_train)\n",
    "confusion_matric_artifact = get_confusion_matrix(model, X_train, y_train, 'confusion_matrix_train.png')\n",
    "\n",
    "# validation set\n",
    "y_pred = predict(model, X_val)\n",
    "y_pred_proba = predict_prob(model, X_val)\n",
    "metrics_val = get_metrics_val(y_val, y_pred, y_pred_proba)\n",
    "confusion_matric_artifact = get_confusion_matrix(model, X_val, y_val, 'confusion_matrix_val.png')\n",
    "\n",
    "with mlflow.start_run():\n",
    "\n",
    "      for metric in metrics_train:\n",
    "            mlflow.log_metric(metric, metrics_train[metric])\n",
    "\n",
    "      for metric in metrics_val:\n",
    "            mlflow.log_metric(metric, metrics_val[metric])\n",
    "\n",
    "      mlflow.log_artifact('confusion_matrix.png' ,'confusion_matrix')\n",
    "      mlflow.log_param(\"Regularization\", 0.01)\n",
    "      #mlflow.set_tag(\"Dataset\", \"validation\")"
   ]
  }
 ],
 "metadata": {
  "colab": {
   "collapsed_sections": [],
   "name": "logistic_regression_github.ipynb",
   "provenance": []
  },
  "kernelspec": {
   "display_name": "Python 3.9.13 ('mlflow_tacking-env')",
   "language": "python",
   "name": "python3"
  },
  "language_info": {
   "codemirror_mode": {
    "name": "ipython",
    "version": 3
   },
   "file_extension": ".py",
   "mimetype": "text/x-python",
   "name": "python",
   "nbconvert_exporter": "python",
   "pygments_lexer": "ipython3",
   "version": "3.9.13"
  },
  "vscode": {
   "interpreter": {
    "hash": "b944a1fdf3a20e1ceb0d2114ee9ff00af634094778e409bc83aea844a1fd5769"
   }
  }
 },
 "nbformat": 4,
 "nbformat_minor": 4
}
