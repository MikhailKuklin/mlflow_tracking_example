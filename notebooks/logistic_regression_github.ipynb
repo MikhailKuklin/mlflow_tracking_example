{
 "cells": [
  {
   "cell_type": "markdown",
   "metadata": {
    "id": "TZUUL8c1MzFR"
   },
   "source": [
    "**Install and load necessary modules/libraries**"
   ]
  },
  {
   "cell_type": "code",
   "execution_count": 7,
   "metadata": {
    "colab": {
     "base_uri": "https://localhost:8080/"
    },
    "id": "GTwQV3st-WRA",
    "outputId": "c29a3caa-c0e7-474e-a86c-a5e2dbc62fba"
   },
   "outputs": [],
   "source": [
    "# if you do not use docker => uncomment lines below to install necessary packages\n",
    "#pip install category_encoders"
   ]
  },
  {
   "cell_type": "code",
   "execution_count": 8,
   "metadata": {
    "id": "WiGrnnnteLa0"
   },
   "outputs": [],
   "source": [
    "# if you do not use docker => uncomment lines below to install necessary packages\n",
    "#pip install missingno"
   ]
  },
  {
   "cell_type": "code",
   "execution_count": 9,
   "metadata": {},
   "outputs": [
    {
     "name": "stdout",
     "output_type": "stream",
     "text": [
      "Requirement already satisfied: mlflow in /opt/conda/lib/python3.10/site-packages (1.28.0)\n",
      "Requirement already satisfied: prometheus-flask-exporter<1 in /opt/conda/lib/python3.10/site-packages (from mlflow) (0.20.3)\n",
      "Requirement already satisfied: alembic<2 in /opt/conda/lib/python3.10/site-packages (from mlflow) (1.8.1)\n",
      "Requirement already satisfied: sqlparse<1,>=0.4.0 in /opt/conda/lib/python3.10/site-packages (from mlflow) (0.4.2)\n",
      "Requirement already satisfied: click<9,>=7.0 in /opt/conda/lib/python3.10/site-packages (from mlflow) (8.1.3)\n",
      "Requirement already satisfied: requests<3,>=2.17.3 in /opt/conda/lib/python3.10/site-packages (from mlflow) (2.28.1)\n",
      "Requirement already satisfied: pyyaml<7,>=5.1 in /opt/conda/lib/python3.10/site-packages (from mlflow) (6.0)\n",
      "Requirement already satisfied: querystring-parser<2 in /opt/conda/lib/python3.10/site-packages (from mlflow) (1.2.4)\n",
      "Requirement already satisfied: importlib-metadata!=4.7.0,<5,>=3.7.0 in /opt/conda/lib/python3.10/site-packages (from mlflow) (4.12.0)\n",
      "Requirement already satisfied: docker<6,>=4.0.0 in /opt/conda/lib/python3.10/site-packages (from mlflow) (5.0.3)\n",
      "Requirement already satisfied: protobuf<5,>=3.12.0 in /opt/conda/lib/python3.10/site-packages (from mlflow) (4.21.5)\n",
      "Requirement already satisfied: pytz<2023 in /opt/conda/lib/python3.10/site-packages (from mlflow) (2022.1)\n",
      "Requirement already satisfied: packaging<22 in /opt/conda/lib/python3.10/site-packages (from mlflow) (21.3)\n",
      "Requirement already satisfied: sqlalchemy<2,>=1.4.0 in /opt/conda/lib/python3.10/site-packages (from mlflow) (1.4.40)\n",
      "Requirement already satisfied: numpy<2 in /opt/conda/lib/python3.10/site-packages (from mlflow) (1.21.6)\n",
      "Requirement already satisfied: gunicorn<21 in /opt/conda/lib/python3.10/site-packages (from mlflow) (20.1.0)\n",
      "Requirement already satisfied: cloudpickle<3 in /opt/conda/lib/python3.10/site-packages (from mlflow) (2.1.0)\n",
      "Requirement already satisfied: Flask<3 in /opt/conda/lib/python3.10/site-packages (from mlflow) (2.2.2)\n",
      "Requirement already satisfied: gitpython<4,>=2.1.0 in /opt/conda/lib/python3.10/site-packages (from mlflow) (3.1.27)\n",
      "Requirement already satisfied: databricks-cli<1,>=0.8.7 in /opt/conda/lib/python3.10/site-packages (from mlflow) (0.17.1)\n",
      "Requirement already satisfied: pandas<2 in /opt/conda/lib/python3.10/site-packages (from mlflow) (1.3.5)\n",
      "Requirement already satisfied: scipy<2 in /opt/conda/lib/python3.10/site-packages (from mlflow) (1.7.3)\n",
      "Requirement already satisfied: entrypoints<1 in /opt/conda/lib/python3.10/site-packages (from mlflow) (0.4)\n",
      "Requirement already satisfied: Mako in /opt/conda/lib/python3.10/site-packages (from alembic<2->mlflow) (1.2.1)\n",
      "Requirement already satisfied: pyjwt>=1.7.0 in /opt/conda/lib/python3.10/site-packages (from databricks-cli<1,>=0.8.7->mlflow) (2.4.0)\n",
      "Requirement already satisfied: tabulate>=0.7.7 in /opt/conda/lib/python3.10/site-packages (from databricks-cli<1,>=0.8.7->mlflow) (0.8.10)\n",
      "Requirement already satisfied: oauthlib>=3.1.0 in /opt/conda/lib/python3.10/site-packages (from databricks-cli<1,>=0.8.7->mlflow) (3.2.0)\n",
      "Requirement already satisfied: six>=1.10.0 in /opt/conda/lib/python3.10/site-packages (from databricks-cli<1,>=0.8.7->mlflow) (1.16.0)\n",
      "Requirement already satisfied: websocket-client>=0.32.0 in /opt/conda/lib/python3.10/site-packages (from docker<6,>=4.0.0->mlflow) (1.3.3)\n",
      "Requirement already satisfied: Jinja2>=3.0 in /opt/conda/lib/python3.10/site-packages (from Flask<3->mlflow) (3.1.2)\n",
      "Requirement already satisfied: Werkzeug>=2.2.2 in /opt/conda/lib/python3.10/site-packages (from Flask<3->mlflow) (2.2.2)\n",
      "Requirement already satisfied: itsdangerous>=2.0 in /opt/conda/lib/python3.10/site-packages (from Flask<3->mlflow) (2.1.2)\n",
      "Requirement already satisfied: gitdb<5,>=4.0.1 in /opt/conda/lib/python3.10/site-packages (from gitpython<4,>=2.1.0->mlflow) (4.0.9)\n",
      "Requirement already satisfied: setuptools>=3.0 in /opt/conda/lib/python3.10/site-packages (from gunicorn<21->mlflow) (64.0.3)\n",
      "Requirement already satisfied: zipp>=0.5 in /opt/conda/lib/python3.10/site-packages (from importlib-metadata!=4.7.0,<5,>=3.7.0->mlflow) (3.8.1)\n",
      "Requirement already satisfied: pyparsing!=3.0.5,>=2.0.2 in /opt/conda/lib/python3.10/site-packages (from packaging<22->mlflow) (3.0.9)\n",
      "Requirement already satisfied: python-dateutil>=2.7.3 in /opt/conda/lib/python3.10/site-packages (from pandas<2->mlflow) (2.8.2)\n",
      "Requirement already satisfied: prometheus-client in /opt/conda/lib/python3.10/site-packages (from prometheus-flask-exporter<1->mlflow) (0.14.1)\n",
      "Requirement already satisfied: certifi>=2017.4.17 in /opt/conda/lib/python3.10/site-packages (from requests<3,>=2.17.3->mlflow) (2022.6.15)\n",
      "Requirement already satisfied: charset-normalizer<3,>=2 in /opt/conda/lib/python3.10/site-packages (from requests<3,>=2.17.3->mlflow) (2.1.0)\n",
      "Requirement already satisfied: urllib3<1.27,>=1.21.1 in /opt/conda/lib/python3.10/site-packages (from requests<3,>=2.17.3->mlflow) (1.26.11)\n",
      "Requirement already satisfied: idna<4,>=2.5 in /opt/conda/lib/python3.10/site-packages (from requests<3,>=2.17.3->mlflow) (3.3)\n",
      "Requirement already satisfied: greenlet!=0.4.17 in /opt/conda/lib/python3.10/site-packages (from sqlalchemy<2,>=1.4.0->mlflow) (1.1.2)\n",
      "Requirement already satisfied: smmap<6,>=3.0.1 in /opt/conda/lib/python3.10/site-packages (from gitdb<5,>=4.0.1->gitpython<4,>=2.1.0->mlflow) (5.0.0)\n",
      "Requirement already satisfied: MarkupSafe>=2.0 in /opt/conda/lib/python3.10/site-packages (from Jinja2>=3.0->Flask<3->mlflow) (2.1.1)\n",
      "Note: you may need to restart the kernel to use updated packages.\n"
     ]
    }
   ],
   "source": [
    "#pip install mlflow"
   ]
  },
  {
   "cell_type": "code",
   "execution_count": 1,
   "metadata": {
    "colab": {
     "base_uri": "https://localhost:8080/"
    },
    "id": "eICTWNcxx0iD",
    "outputId": "0fb0c0d8-4722-442c-820e-015522a92f41"
   },
   "outputs": [],
   "source": [
    "# load necessary modules\n",
    "\n",
    "%matplotlib inline\n",
    "import numpy as np\n",
    "import pandas as pd\n",
    "import matplotlib.pyplot as plt\n",
    "import category_encoders as ce\n",
    "import missingno as msno\n",
    "import mlflow\n",
    "\n",
    "from sklearn import metrics\n",
    "from sklearn import datasets\n",
    "from sklearn import preprocessing\n",
    "from sklearn.linear_model import LogisticRegression\n",
    "from sklearn.model_selection import train_test_split\n",
    "from sklearn.preprocessing import StandardScaler\n",
    "from sklearn.pipeline import Pipeline\n",
    "from sklearn.metrics import accuracy_score,confusion_matrix\n",
    "from sklearn.metrics import classification_report\n",
    "from sklearn.model_selection import GridSearchCV"
   ]
  },
  {
   "cell_type": "markdown",
   "metadata": {
    "id": "uZiEa_DENPvL"
   },
   "source": [
    "**Data preprocessing**"
   ]
  },
  {
   "cell_type": "code",
   "execution_count": 2,
   "metadata": {
    "colab": {
     "base_uri": "https://localhost:8080/",
     "height": 206
    },
    "id": "uIFNrI1Z04u_",
    "outputId": "7ee815a8-21b7-497f-9552-c24f3262e253"
   },
   "outputs": [
    {
     "data": {
      "text/html": [
       "<div>\n",
       "<style scoped>\n",
       "    .dataframe tbody tr th:only-of-type {\n",
       "        vertical-align: middle;\n",
       "    }\n",
       "\n",
       "    .dataframe tbody tr th {\n",
       "        vertical-align: top;\n",
       "    }\n",
       "\n",
       "    .dataframe thead th {\n",
       "        text-align: right;\n",
       "    }\n",
       "</style>\n",
       "<table border=\"1\" class=\"dataframe\">\n",
       "  <thead>\n",
       "    <tr style=\"text-align: right;\">\n",
       "      <th></th>\n",
       "      <th>Unnamed: 0</th>\n",
       "      <th>rowid</th>\n",
       "      <th>species</th>\n",
       "      <th>island</th>\n",
       "      <th>bill_length_mm</th>\n",
       "      <th>bill_depth_mm</th>\n",
       "      <th>flipper_length_mm</th>\n",
       "      <th>body_mass_g</th>\n",
       "      <th>sex</th>\n",
       "      <th>year</th>\n",
       "    </tr>\n",
       "  </thead>\n",
       "  <tbody>\n",
       "    <tr>\n",
       "      <th>0</th>\n",
       "      <td>0</td>\n",
       "      <td>1</td>\n",
       "      <td>Adelie</td>\n",
       "      <td>Torgersen</td>\n",
       "      <td>39.1</td>\n",
       "      <td>18.7</td>\n",
       "      <td>181.0</td>\n",
       "      <td>3750.0</td>\n",
       "      <td>male</td>\n",
       "      <td>2007</td>\n",
       "    </tr>\n",
       "    <tr>\n",
       "      <th>1</th>\n",
       "      <td>1</td>\n",
       "      <td>2</td>\n",
       "      <td>Adelie</td>\n",
       "      <td>Torgersen</td>\n",
       "      <td>39.5</td>\n",
       "      <td>17.4</td>\n",
       "      <td>186.0</td>\n",
       "      <td>3800.0</td>\n",
       "      <td>female</td>\n",
       "      <td>2007</td>\n",
       "    </tr>\n",
       "    <tr>\n",
       "      <th>2</th>\n",
       "      <td>2</td>\n",
       "      <td>3</td>\n",
       "      <td>Adelie</td>\n",
       "      <td>Torgersen</td>\n",
       "      <td>40.3</td>\n",
       "      <td>18.0</td>\n",
       "      <td>195.0</td>\n",
       "      <td>3250.0</td>\n",
       "      <td>female</td>\n",
       "      <td>2007</td>\n",
       "    </tr>\n",
       "    <tr>\n",
       "      <th>3</th>\n",
       "      <td>3</td>\n",
       "      <td>4</td>\n",
       "      <td>Adelie</td>\n",
       "      <td>Torgersen</td>\n",
       "      <td>NaN</td>\n",
       "      <td>NaN</td>\n",
       "      <td>NaN</td>\n",
       "      <td>NaN</td>\n",
       "      <td>NaN</td>\n",
       "      <td>2007</td>\n",
       "    </tr>\n",
       "    <tr>\n",
       "      <th>4</th>\n",
       "      <td>4</td>\n",
       "      <td>5</td>\n",
       "      <td>Adelie</td>\n",
       "      <td>Torgersen</td>\n",
       "      <td>36.7</td>\n",
       "      <td>19.3</td>\n",
       "      <td>193.0</td>\n",
       "      <td>3450.0</td>\n",
       "      <td>female</td>\n",
       "      <td>2007</td>\n",
       "    </tr>\n",
       "  </tbody>\n",
       "</table>\n",
       "</div>"
      ],
      "text/plain": [
       "   Unnamed: 0  rowid species     island  bill_length_mm  bill_depth_mm  \\\n",
       "0           0      1  Adelie  Torgersen            39.1           18.7   \n",
       "1           1      2  Adelie  Torgersen            39.5           17.4   \n",
       "2           2      3  Adelie  Torgersen            40.3           18.0   \n",
       "3           3      4  Adelie  Torgersen             NaN            NaN   \n",
       "4           4      5  Adelie  Torgersen            36.7           19.3   \n",
       "\n",
       "   flipper_length_mm  body_mass_g     sex  year  \n",
       "0              181.0       3750.0    male  2007  \n",
       "1              186.0       3800.0  female  2007  \n",
       "2              195.0       3250.0  female  2007  \n",
       "3                NaN          NaN     NaN  2007  \n",
       "4              193.0       3450.0  female  2007  "
      ]
     },
     "execution_count": 2,
     "metadata": {},
     "output_type": "execute_result"
    }
   ],
   "source": [
    "# load csv file\n",
    "\n",
    "df = pd.read_csv('../data/penguins.csv')\n",
    "\n",
    "# if you do not use docker => uncomment line below to download data from github\n",
    "#df = pd.read_csv('https://gist.githubusercontent.com/slopp/ce3b90b9168f2f921784de84fa445651/raw/4ecf3041f0ed4913e7c230758733948bc561f434/penguins.csv')\n",
    "\n",
    "df.head()"
   ]
  },
  {
   "cell_type": "code",
   "execution_count": 3,
   "metadata": {
    "colab": {
     "base_uri": "https://localhost:8080/",
     "height": 499
    },
    "id": "YrmPROwEv0QG",
    "outputId": "ca592ab4-b3cd-4457-b881-5562ba695e52"
   },
   "outputs": [
    {
     "data": {
      "image/png": "[encoded data removed]",
      "text/plain": [
       "<Figure size 864x576 with 9 Axes>"
      ]
     },
     "metadata": {
      "needs_background": "light"
     },
     "output_type": "display_data"
    }
   ],
   "source": [
    "# check histograms\n",
    "\n",
    "df.hist(bins=10, grid=True, figsize=(12,8), color='#86bf91', zorder=1, rwidth=0.9);"
   ]
  },
  {
   "cell_type": "code",
   "execution_count": 4,
   "metadata": {
    "id": "bMgg2D0v_gkk"
   },
   "outputs": [],
   "source": [
    "# drop duplicated if exist\n",
    "\n",
    "df=df.drop_duplicates()"
   ]
  },
  {
   "cell_type": "code",
   "execution_count": 5,
   "metadata": {
    "colab": {
     "base_uri": "https://localhost:8080/"
    },
    "id": "fqALkZUFlbkB",
    "outputId": "d5a42daa-7f52-4a02-efb7-7116f741462c"
   },
   "outputs": [
    {
     "data": {
      "text/plain": [
       "Unnamed: 0            0\n",
       "rowid                 0\n",
       "species               0\n",
       "island                0\n",
       "bill_length_mm        2\n",
       "bill_depth_mm         2\n",
       "flipper_length_mm     2\n",
       "body_mass_g           2\n",
       "sex                  11\n",
       "year                  0\n",
       "dtype: int64"
      ]
     },
     "execution_count": 5,
     "metadata": {},
     "output_type": "execute_result"
    }
   ],
   "source": [
    "# check null values\n",
    "\n",
    "df.isnull().sum()"
   ]
  },
  {
   "cell_type": "code",
   "execution_count": 6,
   "metadata": {
    "colab": {
     "base_uri": "https://localhost:8080/",
     "height": 710
    },
    "id": "hrwLAIQ3DL0o",
    "outputId": "c8f1b9b6-2af8-4527-c410-139407afbf7c"
   },
   "outputs": [
    {
     "data": {
      "image/png": "[encoded data removed]",
      "text/plain": [
       "<Figure size 1800x720 with 2 Axes>"
      ]
     },
     "metadata": {
      "needs_background": "light"
     },
     "output_type": "display_data"
    }
   ],
   "source": [
    "# check missing values\n",
    "\n",
    "msno.matrix(df);"
   ]
  },
  {
   "cell_type": "code",
   "execution_count": 7,
   "metadata": {
    "colab": {
     "base_uri": "https://localhost:8080/",
     "height": 738
    },
    "id": "vNVan3ixNKAY",
    "outputId": "245a58b9-04d2-437b-e4b8-783d45d06ff7"
   },
   "outputs": [
    {
     "data": {
      "image/png": "[encoded data removed]",
      "text/plain": [
       "<Figure size 1800x720 with 3 Axes>"
      ]
     },
     "metadata": {
      "needs_background": "light"
     },
     "output_type": "display_data"
    }
   ],
   "source": [
    "# visualize using bar plot of missing values\n",
    "\n",
    "msno.bar(df);"
   ]
  },
  {
   "cell_type": "code",
   "execution_count": 8,
   "metadata": {
    "colab": {
     "base_uri": "https://localhost:8080/"
    },
    "id": "vgb2tlCQAh1Q",
    "outputId": "4b1d2fc8-b03c-4516-b3ad-f641592d6656"
   },
   "outputs": [
    {
     "data": {
      "text/plain": [
       "(333, 10)"
      ]
     },
     "execution_count": 8,
     "metadata": {},
     "output_type": "execute_result"
    }
   ],
   "source": [
    "# drop columns with missing values\n",
    "\n",
    "df.dropna(axis=0,inplace=True)\n",
    "\n",
    "df.shape"
   ]
  },
  {
   "cell_type": "code",
   "execution_count": 9,
   "metadata": {
    "colab": {
     "base_uri": "https://localhost:8080/"
    },
    "id": "iA3L_ycNBTIt",
    "outputId": "fec8ded3-e6db-4151-f30c-648de34ba6d6"
   },
   "outputs": [
    {
     "name": "stdout",
     "output_type": "stream",
     "text": [
      "<class 'pandas.core.frame.DataFrame'>\n",
      "Int64Index: 333 entries, 0 to 343\n",
      "Data columns (total 10 columns):\n",
      " #   Column             Non-Null Count  Dtype  \n",
      "---  ------             --------------  -----  \n",
      " 0   Unnamed: 0         333 non-null    int64  \n",
      " 1   rowid              333 non-null    int64  \n",
      " 2   species            333 non-null    object \n",
      " 3   island             333 non-null    object \n",
      " 4   bill_length_mm     333 non-null    float64\n",
      " 5   bill_depth_mm      333 non-null    float64\n",
      " 6   flipper_length_mm  333 non-null    float64\n",
      " 7   body_mass_g        333 non-null    float64\n",
      " 8   sex                333 non-null    object \n",
      " 9   year               333 non-null    int64  \n",
      "dtypes: float64(4), int64(3), object(3)\n",
      "memory usage: 28.6+ KB\n"
     ]
    }
   ],
   "source": [
    "# check df\n",
    "\n",
    "df.info()"
   ]
  },
  {
   "cell_type": "code",
   "execution_count": 10,
   "metadata": {
    "colab": {
     "base_uri": "https://localhost:8080/"
    },
    "id": "_ZKhu_Z1hPtH",
    "outputId": "b4e7c6d9-0f6b-4780-d3d4-9ca8aa4ca069"
   },
   "outputs": [
    {
     "data": {
      "text/plain": [
       "Unnamed: 0             int64\n",
       "rowid                  int64\n",
       "species               object\n",
       "island                object\n",
       "bill_length_mm       float64\n",
       "bill_depth_mm        float64\n",
       "flipper_length_mm    float64\n",
       "body_mass_g          float64\n",
       "sex                   object\n",
       "year                   int64\n",
       "dtype: object"
      ]
     },
     "execution_count": 10,
     "metadata": {},
     "output_type": "execute_result"
    }
   ],
   "source": [
    "# check types\n",
    "\n",
    "df.dtypes"
   ]
  },
  {
   "cell_type": "code",
   "execution_count": 11,
   "metadata": {
    "colab": {
     "base_uri": "https://localhost:8080/",
     "height": 423
    },
    "id": "ytuxmFSz939V",
    "outputId": "562adb03-f68d-49a3-8246-7dd1ef611231"
   },
   "outputs": [
    {
     "data": {
      "text/html": [
       "<div>\n",
       "<style scoped>\n",
       "    .dataframe tbody tr th:only-of-type {\n",
       "        vertical-align: middle;\n",
       "    }\n",
       "\n",
       "    .dataframe tbody tr th {\n",
       "        vertical-align: top;\n",
       "    }\n",
       "\n",
       "    .dataframe thead th {\n",
       "        text-align: right;\n",
       "    }\n",
       "</style>\n",
       "<table border=\"1\" class=\"dataframe\">\n",
       "  <thead>\n",
       "    <tr style=\"text-align: right;\">\n",
       "      <th></th>\n",
       "      <th>Unnamed: 0</th>\n",
       "      <th>rowid</th>\n",
       "      <th>species_Adelie</th>\n",
       "      <th>species_Gentoo</th>\n",
       "      <th>species_Chinstrap</th>\n",
       "      <th>island_Torgersen</th>\n",
       "      <th>island_Biscoe</th>\n",
       "      <th>island_Dream</th>\n",
       "      <th>bill_length_mm</th>\n",
       "      <th>bill_depth_mm</th>\n",
       "      <th>flipper_length_mm</th>\n",
       "      <th>body_mass_g</th>\n",
       "      <th>sex</th>\n",
       "      <th>year</th>\n",
       "    </tr>\n",
       "  </thead>\n",
       "  <tbody>\n",
       "    <tr>\n",
       "      <th>0</th>\n",
       "      <td>0</td>\n",
       "      <td>1</td>\n",
       "      <td>1.0</td>\n",
       "      <td>0.0</td>\n",
       "      <td>0.0</td>\n",
       "      <td>1.0</td>\n",
       "      <td>0.0</td>\n",
       "      <td>0.0</td>\n",
       "      <td>39.1</td>\n",
       "      <td>18.7</td>\n",
       "      <td>181.0</td>\n",
       "      <td>3750.0</td>\n",
       "      <td>male</td>\n",
       "      <td>2007</td>\n",
       "    </tr>\n",
       "    <tr>\n",
       "      <th>1</th>\n",
       "      <td>1</td>\n",
       "      <td>2</td>\n",
       "      <td>1.0</td>\n",
       "      <td>0.0</td>\n",
       "      <td>0.0</td>\n",
       "      <td>1.0</td>\n",
       "      <td>0.0</td>\n",
       "      <td>0.0</td>\n",
       "      <td>39.5</td>\n",
       "      <td>17.4</td>\n",
       "      <td>186.0</td>\n",
       "      <td>3800.0</td>\n",
       "      <td>female</td>\n",
       "      <td>2007</td>\n",
       "    </tr>\n",
       "    <tr>\n",
       "      <th>2</th>\n",
       "      <td>2</td>\n",
       "      <td>3</td>\n",
       "      <td>1.0</td>\n",
       "      <td>0.0</td>\n",
       "      <td>0.0</td>\n",
       "      <td>1.0</td>\n",
       "      <td>0.0</td>\n",
       "      <td>0.0</td>\n",
       "      <td>40.3</td>\n",
       "      <td>18.0</td>\n",
       "      <td>195.0</td>\n",
       "      <td>3250.0</td>\n",
       "      <td>female</td>\n",
       "      <td>2007</td>\n",
       "    </tr>\n",
       "    <tr>\n",
       "      <th>4</th>\n",
       "      <td>4</td>\n",
       "      <td>5</td>\n",
       "      <td>1.0</td>\n",
       "      <td>0.0</td>\n",
       "      <td>0.0</td>\n",
       "      <td>1.0</td>\n",
       "      <td>0.0</td>\n",
       "      <td>0.0</td>\n",
       "      <td>36.7</td>\n",
       "      <td>19.3</td>\n",
       "      <td>193.0</td>\n",
       "      <td>3450.0</td>\n",
       "      <td>female</td>\n",
       "      <td>2007</td>\n",
       "    </tr>\n",
       "    <tr>\n",
       "      <th>5</th>\n",
       "      <td>5</td>\n",
       "      <td>6</td>\n",
       "      <td>1.0</td>\n",
       "      <td>0.0</td>\n",
       "      <td>0.0</td>\n",
       "      <td>1.0</td>\n",
       "      <td>0.0</td>\n",
       "      <td>0.0</td>\n",
       "      <td>39.3</td>\n",
       "      <td>20.6</td>\n",
       "      <td>190.0</td>\n",
       "      <td>3650.0</td>\n",
       "      <td>male</td>\n",
       "      <td>2007</td>\n",
       "    </tr>\n",
       "    <tr>\n",
       "      <th>...</th>\n",
       "      <td>...</td>\n",
       "      <td>...</td>\n",
       "      <td>...</td>\n",
       "      <td>...</td>\n",
       "      <td>...</td>\n",
       "      <td>...</td>\n",
       "      <td>...</td>\n",
       "      <td>...</td>\n",
       "      <td>...</td>\n",
       "      <td>...</td>\n",
       "      <td>...</td>\n",
       "      <td>...</td>\n",
       "      <td>...</td>\n",
       "      <td>...</td>\n",
       "    </tr>\n",
       "    <tr>\n",
       "      <th>339</th>\n",
       "      <td>339</td>\n",
       "      <td>340</td>\n",
       "      <td>0.0</td>\n",
       "      <td>0.0</td>\n",
       "      <td>1.0</td>\n",
       "      <td>0.0</td>\n",
       "      <td>0.0</td>\n",
       "      <td>1.0</td>\n",
       "      <td>55.8</td>\n",
       "      <td>19.8</td>\n",
       "      <td>207.0</td>\n",
       "      <td>4000.0</td>\n",
       "      <td>male</td>\n",
       "      <td>2009</td>\n",
       "    </tr>\n",
       "    <tr>\n",
       "      <th>340</th>\n",
       "      <td>340</td>\n",
       "      <td>341</td>\n",
       "      <td>0.0</td>\n",
       "      <td>0.0</td>\n",
       "      <td>1.0</td>\n",
       "      <td>0.0</td>\n",
       "      <td>0.0</td>\n",
       "      <td>1.0</td>\n",
       "      <td>43.5</td>\n",
       "      <td>18.1</td>\n",
       "      <td>202.0</td>\n",
       "      <td>3400.0</td>\n",
       "      <td>female</td>\n",
       "      <td>2009</td>\n",
       "    </tr>\n",
       "    <tr>\n",
       "      <th>341</th>\n",
       "      <td>341</td>\n",
       "      <td>342</td>\n",
       "      <td>0.0</td>\n",
       "      <td>0.0</td>\n",
       "      <td>1.0</td>\n",
       "      <td>0.0</td>\n",
       "      <td>0.0</td>\n",
       "      <td>1.0</td>\n",
       "      <td>49.6</td>\n",
       "      <td>18.2</td>\n",
       "      <td>193.0</td>\n",
       "      <td>3775.0</td>\n",
       "      <td>male</td>\n",
       "      <td>2009</td>\n",
       "    </tr>\n",
       "    <tr>\n",
       "      <th>342</th>\n",
       "      <td>342</td>\n",
       "      <td>343</td>\n",
       "      <td>0.0</td>\n",
       "      <td>0.0</td>\n",
       "      <td>1.0</td>\n",
       "      <td>0.0</td>\n",
       "      <td>0.0</td>\n",
       "      <td>1.0</td>\n",
       "      <td>50.8</td>\n",
       "      <td>19.0</td>\n",
       "      <td>210.0</td>\n",
       "      <td>4100.0</td>\n",
       "      <td>male</td>\n",
       "      <td>2009</td>\n",
       "    </tr>\n",
       "    <tr>\n",
       "      <th>343</th>\n",
       "      <td>343</td>\n",
       "      <td>344</td>\n",
       "      <td>0.0</td>\n",
       "      <td>0.0</td>\n",
       "      <td>1.0</td>\n",
       "      <td>0.0</td>\n",
       "      <td>0.0</td>\n",
       "      <td>1.0</td>\n",
       "      <td>50.2</td>\n",
       "      <td>18.7</td>\n",
       "      <td>198.0</td>\n",
       "      <td>3775.0</td>\n",
       "      <td>female</td>\n",
       "      <td>2009</td>\n",
       "    </tr>\n",
       "  </tbody>\n",
       "</table>\n",
       "<p>333 rows × 14 columns</p>\n",
       "</div>"
      ],
      "text/plain": [
       "     Unnamed: 0  rowid  species_Adelie  species_Gentoo  species_Chinstrap  \\\n",
       "0             0      1             1.0             0.0                0.0   \n",
       "1             1      2             1.0             0.0                0.0   \n",
       "2             2      3             1.0             0.0                0.0   \n",
       "4             4      5             1.0             0.0                0.0   \n",
       "5             5      6             1.0             0.0                0.0   \n",
       "..          ...    ...             ...             ...                ...   \n",
       "339         339    340             0.0             0.0                1.0   \n",
       "340         340    341             0.0             0.0                1.0   \n",
       "341         341    342             0.0             0.0                1.0   \n",
       "342         342    343             0.0             0.0                1.0   \n",
       "343         343    344             0.0             0.0                1.0   \n",
       "\n",
       "     island_Torgersen  island_Biscoe  island_Dream  bill_length_mm  \\\n",
       "0                 1.0            0.0           0.0            39.1   \n",
       "1                 1.0            0.0           0.0            39.5   \n",
       "2                 1.0            0.0           0.0            40.3   \n",
       "4                 1.0            0.0           0.0            36.7   \n",
       "5                 1.0            0.0           0.0            39.3   \n",
       "..                ...            ...           ...             ...   \n",
       "339               0.0            0.0           1.0            55.8   \n",
       "340               0.0            0.0           1.0            43.5   \n",
       "341               0.0            0.0           1.0            49.6   \n",
       "342               0.0            0.0           1.0            50.8   \n",
       "343               0.0            0.0           1.0            50.2   \n",
       "\n",
       "     bill_depth_mm  flipper_length_mm  body_mass_g     sex  year  \n",
       "0             18.7              181.0       3750.0    male  2007  \n",
       "1             17.4              186.0       3800.0  female  2007  \n",
       "2             18.0              195.0       3250.0  female  2007  \n",
       "4             19.3              193.0       3450.0  female  2007  \n",
       "5             20.6              190.0       3650.0    male  2007  \n",
       "..             ...                ...          ...     ...   ...  \n",
       "339           19.8              207.0       4000.0    male  2009  \n",
       "340           18.1              202.0       3400.0  female  2009  \n",
       "341           18.2              193.0       3775.0    male  2009  \n",
       "342           19.0              210.0       4100.0    male  2009  \n",
       "343           18.7              198.0       3775.0  female  2009  \n",
       "\n",
       "[333 rows x 14 columns]"
      ]
     },
     "execution_count": 11,
     "metadata": {},
     "output_type": "execute_result"
    }
   ],
   "source": [
    "# one hot encoding - nominal data\n",
    "\n",
    "encoder=ce.OneHotEncoder(cols=['species','island'],handle_unknown='return_nan', return_df=True,use_cat_names=True)\n",
    "\n",
    "df_enc=encoder.fit_transform(df)\n",
    "\n",
    "df_enc"
   ]
  },
  {
   "cell_type": "code",
   "execution_count": 12,
   "metadata": {
    "colab": {
     "base_uri": "https://localhost:8080/",
     "height": 206
    },
    "id": "LqZ0lszP3r4g",
    "outputId": "9e3461b6-69d3-43d8-c8ea-14717e22cecb"
   },
   "outputs": [
    {
     "data": {
      "text/html": [
       "<div>\n",
       "<style scoped>\n",
       "    .dataframe tbody tr th:only-of-type {\n",
       "        vertical-align: middle;\n",
       "    }\n",
       "\n",
       "    .dataframe tbody tr th {\n",
       "        vertical-align: top;\n",
       "    }\n",
       "\n",
       "    .dataframe thead th {\n",
       "        text-align: right;\n",
       "    }\n",
       "</style>\n",
       "<table border=\"1\" class=\"dataframe\">\n",
       "  <thead>\n",
       "    <tr style=\"text-align: right;\">\n",
       "      <th></th>\n",
       "      <th>Unnamed: 0</th>\n",
       "      <th>rowid</th>\n",
       "      <th>species_Adelie</th>\n",
       "      <th>species_Gentoo</th>\n",
       "      <th>species_Chinstrap</th>\n",
       "      <th>island_Torgersen</th>\n",
       "      <th>island_Biscoe</th>\n",
       "      <th>island_Dream</th>\n",
       "      <th>bill_length_mm</th>\n",
       "      <th>bill_depth_mm</th>\n",
       "      <th>flipper_length_mm</th>\n",
       "      <th>body_mass_g</th>\n",
       "      <th>sex</th>\n",
       "      <th>year</th>\n",
       "      <th>label</th>\n",
       "    </tr>\n",
       "  </thead>\n",
       "  <tbody>\n",
       "    <tr>\n",
       "      <th>0</th>\n",
       "      <td>0</td>\n",
       "      <td>1</td>\n",
       "      <td>1.0</td>\n",
       "      <td>0.0</td>\n",
       "      <td>0.0</td>\n",
       "      <td>1.0</td>\n",
       "      <td>0.0</td>\n",
       "      <td>0.0</td>\n",
       "      <td>39.1</td>\n",
       "      <td>18.7</td>\n",
       "      <td>181.0</td>\n",
       "      <td>3750.0</td>\n",
       "      <td>male</td>\n",
       "      <td>2007</td>\n",
       "      <td>1.0</td>\n",
       "    </tr>\n",
       "    <tr>\n",
       "      <th>1</th>\n",
       "      <td>1</td>\n",
       "      <td>2</td>\n",
       "      <td>1.0</td>\n",
       "      <td>0.0</td>\n",
       "      <td>0.0</td>\n",
       "      <td>1.0</td>\n",
       "      <td>0.0</td>\n",
       "      <td>0.0</td>\n",
       "      <td>39.5</td>\n",
       "      <td>17.4</td>\n",
       "      <td>186.0</td>\n",
       "      <td>3800.0</td>\n",
       "      <td>female</td>\n",
       "      <td>2007</td>\n",
       "      <td>0.0</td>\n",
       "    </tr>\n",
       "    <tr>\n",
       "      <th>2</th>\n",
       "      <td>2</td>\n",
       "      <td>3</td>\n",
       "      <td>1.0</td>\n",
       "      <td>0.0</td>\n",
       "      <td>0.0</td>\n",
       "      <td>1.0</td>\n",
       "      <td>0.0</td>\n",
       "      <td>0.0</td>\n",
       "      <td>40.3</td>\n",
       "      <td>18.0</td>\n",
       "      <td>195.0</td>\n",
       "      <td>3250.0</td>\n",
       "      <td>female</td>\n",
       "      <td>2007</td>\n",
       "      <td>0.0</td>\n",
       "    </tr>\n",
       "    <tr>\n",
       "      <th>4</th>\n",
       "      <td>4</td>\n",
       "      <td>5</td>\n",
       "      <td>1.0</td>\n",
       "      <td>0.0</td>\n",
       "      <td>0.0</td>\n",
       "      <td>1.0</td>\n",
       "      <td>0.0</td>\n",
       "      <td>0.0</td>\n",
       "      <td>36.7</td>\n",
       "      <td>19.3</td>\n",
       "      <td>193.0</td>\n",
       "      <td>3450.0</td>\n",
       "      <td>female</td>\n",
       "      <td>2007</td>\n",
       "      <td>0.0</td>\n",
       "    </tr>\n",
       "    <tr>\n",
       "      <th>5</th>\n",
       "      <td>5</td>\n",
       "      <td>6</td>\n",
       "      <td>1.0</td>\n",
       "      <td>0.0</td>\n",
       "      <td>0.0</td>\n",
       "      <td>1.0</td>\n",
       "      <td>0.0</td>\n",
       "      <td>0.0</td>\n",
       "      <td>39.3</td>\n",
       "      <td>20.6</td>\n",
       "      <td>190.0</td>\n",
       "      <td>3650.0</td>\n",
       "      <td>male</td>\n",
       "      <td>2007</td>\n",
       "      <td>1.0</td>\n",
       "    </tr>\n",
       "  </tbody>\n",
       "</table>\n",
       "</div>"
      ],
      "text/plain": [
       "   Unnamed: 0  rowid  species_Adelie  species_Gentoo  species_Chinstrap  \\\n",
       "0           0      1             1.0             0.0                0.0   \n",
       "1           1      2             1.0             0.0                0.0   \n",
       "2           2      3             1.0             0.0                0.0   \n",
       "4           4      5             1.0             0.0                0.0   \n",
       "5           5      6             1.0             0.0                0.0   \n",
       "\n",
       "   island_Torgersen  island_Biscoe  island_Dream  bill_length_mm  \\\n",
       "0               1.0            0.0           0.0            39.1   \n",
       "1               1.0            0.0           0.0            39.5   \n",
       "2               1.0            0.0           0.0            40.3   \n",
       "4               1.0            0.0           0.0            36.7   \n",
       "5               1.0            0.0           0.0            39.3   \n",
       "\n",
       "   bill_depth_mm  flipper_length_mm  body_mass_g     sex  year  label  \n",
       "0           18.7              181.0       3750.0    male  2007    1.0  \n",
       "1           17.4              186.0       3800.0  female  2007    0.0  \n",
       "2           18.0              195.0       3250.0  female  2007    0.0  \n",
       "4           19.3              193.0       3450.0  female  2007    0.0  \n",
       "5           20.6              190.0       3650.0    male  2007    1.0  "
      ]
     },
     "execution_count": 12,
     "metadata": {},
     "output_type": "execute_result"
    }
   ],
   "source": [
    "# add a new column with labels\n",
    "\n",
    "df_enc.loc[df_enc.sex == 'male', 'label'] = int(1)\n",
    "df_enc.loc[df_enc.sex == 'female', 'label'] = int(0)\n",
    "df_enc['label'].astype('float')\n",
    "df_enc.head()"
   ]
  },
  {
   "cell_type": "code",
   "execution_count": 13,
   "metadata": {
    "colab": {
     "base_uri": "https://localhost:8080/"
    },
    "id": "othQPgQs-ZD5",
    "outputId": "3d8e1ff0-6d37-492b-b11d-8f50e2ed0647"
   },
   "outputs": [
    {
     "data": {
      "text/plain": [
       "1.0    168\n",
       "0.0    165\n",
       "Name: label, dtype: int64"
      ]
     },
     "execution_count": 13,
     "metadata": {},
     "output_type": "execute_result"
    }
   ],
   "source": [
    "# check number of males/females to inspect if dataset is imbalanced\n",
    "\n",
    "df_enc['label'].value_counts()"
   ]
  },
  {
   "cell_type": "code",
   "execution_count": 14,
   "metadata": {
    "id": "Tx4AhJwu7Wzq"
   },
   "outputs": [],
   "source": [
    "# get labels\n",
    "\n",
    "labels = df_enc[['label']]\n",
    "y = labels.to_numpy().reshape(-1,)"
   ]
  },
  {
   "cell_type": "code",
   "execution_count": 15,
   "metadata": {
    "colab": {
     "base_uri": "https://localhost:8080/",
     "height": 303
    },
    "id": "C_Tbv3EMBJza",
    "outputId": "95bfb725-3d93-4b98-f658-d29c50bbb76c"
   },
   "outputs": [
    {
     "data": {
      "image/png": "[encoded data removed]",
      "text/plain": [
       "<Figure size 360x360 with 1 Axes>"
      ]
     },
     "metadata": {},
     "output_type": "display_data"
    }
   ],
   "source": [
    "# pie chart\n",
    "\n",
    "vc=labels.value_counts()\n",
    "\n",
    "plt.figure(figsize=(5,5))\n",
    "\n",
    "patches, texts, autotexts=plt.pie(vc,labels=None,shadow=False,autopct='%1.1f%%',pctdistance=0.75) # startangle=90)\n",
    "centre_circle = plt.Circle((0,0),0.50,fc='white')\n",
    "plt.gcf()\n",
    "plt.gca().add_artist(centre_circle)\n",
    "for text in texts:\n",
    "    text.set_size(26)\n",
    "for text in autotexts:\n",
    "    text.set_size(30)\n",
    "for ctext in autotexts:\n",
    "    ctext.set_color('white')\n",
    "plt.show()"
   ]
  },
  {
   "cell_type": "code",
   "execution_count": 16,
   "metadata": {
    "id": "tX_CB8qMIIsN"
   },
   "outputs": [],
   "source": [
    "# drop useless columns\n",
    "\n",
    "df_enc.drop(columns=['rowid','sex'],axis=1,inplace=True)"
   ]
  },
  {
   "cell_type": "code",
   "execution_count": 17,
   "metadata": {
    "id": "t3Eq4ujFFPAk"
   },
   "outputs": [],
   "source": [
    "# get features\n",
    "\n",
    "X = df_enc.iloc[:,:11].values"
   ]
  },
  {
   "cell_type": "markdown",
   "metadata": {
    "id": "MS8aAX6LyGDR"
   },
   "source": [
    "\n",
    "\n",
    "**ML: Logistic regression**"
   ]
  },
  {
   "cell_type": "code",
   "execution_count": 18,
   "metadata": {
    "colab": {
     "base_uri": "https://localhost:8080/"
    },
    "id": "5kO5VtcuJblk",
    "outputId": "f49c8238-9424-4533-b8e7-def8bbd85a07"
   },
   "outputs": [
    {
     "name": "stdout",
     "output_type": "stream",
     "text": [
      "Training error: [0.5037603  0.5779387  0.7913057  0.90131544 0.92010364 0.92949774\n",
      " 0.9295066  0.93138896]\n",
      "Validation error: [0.50377358 0.56785465 0.78190077 0.89105521 0.89846261 0.91726066\n",
      " 0.90607966 0.90607966]\n",
      "Best model: Pipeline(steps=[('scaler', StandardScaler()),\n",
      "                ('log_reg', LogisticRegression(C=1, multi_class='ovr'))])\n"
     ]
    }
   ],
   "source": [
    "# tuning a logistic regression model through an inverse regularization strength and class weights to find the values that minimize validation error\n",
    "\n",
    "# Set random seed for reproducibility\n",
    "np.random.seed(0)\n",
    "\n",
    "# split dataset into training and validation sets\n",
    "X_train, X_val, y_train, y_val = train_test_split(X, y, test_size=0.2, shuffle=True, stratify=y, random_state=42)\n",
    "\n",
    "# Candidates for the inverse regularization strength\n",
    "C_candidates = [0.00001, 0.0001, 0.001, 0.01, 0.1, 1, 10,100]\n",
    "\n",
    "# tuning and fitting\n",
    "pipe_def = Pipeline([('scaler', StandardScaler()), ('log_reg', LogisticRegression(multi_class='ovr'))])\n",
    "params_def = {'log_reg__C': [0.00001, 0.0001, 0.001, 0.01, 0.1, 1, 10,100]}\n",
    "cv_def = GridSearchCV(pipe_def, param_grid=params_def, cv=5, return_train_score=True)\n",
    "cv_def.fit(X_train, y_train)\n",
    "err_train_def = cv_def.cv_results_['mean_train_score']\n",
    "err_val_def = cv_def.cv_results_['mean_test_score']\n",
    "best_model_def = cv_def.best_estimator_\n",
    "\n",
    "# Print training and validation errors\n",
    "print(f\"Training error: {err_train_def}\")\n",
    "print(f\"Validation error: {err_val_def}\")\n",
    "print(f\"Best model: {best_model_def}\")"
   ]
  },
  {
   "cell_type": "code",
   "execution_count": 19,
   "metadata": {
    "colab": {
     "base_uri": "https://localhost:8080/",
     "height": 408
    },
    "id": "pXwmuirUKPmY",
    "outputId": "c40c618a-680f-4e80-88ef-e7139c1f20c8"
   },
   "outputs": [
    {
     "data": {
      "image/png": "[encoded data removed]",
      "text/plain": [
       "<Figure size 720x432 with 1 Axes>"
      ]
     },
     "metadata": {
      "needs_background": "light"
     },
     "output_type": "display_data"
    }
   ],
   "source": [
    "# Plot training and validation errors for the different values of C to better visualize\n",
    "\n",
    "plt.figure(figsize=(10,6))\n",
    "plt.plot(C_candidates, err_train_def, '-o', label='Training error')\n",
    "plt.plot(C_candidates, err_val_def, '-o',label='Validation error')\n",
    "\n",
    "plt.xscale('log')\n",
    "plt.title(\"Accuracy vs. inverse regularization strength\")\n",
    "plt.xlabel('Inverse regularization strength C')\n",
    "plt.ylabel('Accuracy')\n",
    "plt.legend()\n",
    "plt.show()"
   ]
  },
  {
   "cell_type": "code",
   "execution_count": 20,
   "metadata": {
    "colab": {
     "base_uri": "https://localhost:8080/"
    },
    "id": "e30q0RS1g1t-",
    "outputId": "1cd4b716-24b9-41b4-9501-c0234aad09db"
   },
   "outputs": [
    {
     "ename": "AttributeError",
     "evalue": "module 'mlflow' has no attribute 'start'",
     "output_type": "error",
     "traceback": [
      "\u001b[0;31m---------------------------------------------------------------------------\u001b[0m",
      "\u001b[0;31mAttributeError\u001b[0m                            Traceback (most recent call last)",
      "Input \u001b[0;32mIn [20]\u001b[0m, in \u001b[0;36m<cell line: 7>\u001b[0;34m()\u001b[0m\n\u001b[1;32m      1\u001b[0m \u001b[38;5;66;03m# build a model using optimized hyperparameters \u001b[39;00m\n\u001b[1;32m      2\u001b[0m \n\u001b[1;32m      3\u001b[0m \u001b[38;5;66;03m#!mlflow ui --backend-store-uri sqlite:///mlflow.db\u001b[39;00m\n\u001b[1;32m      5\u001b[0m mlflow\u001b[38;5;241m.\u001b[39msklearn\u001b[38;5;241m.\u001b[39mautolog()\n\u001b[0;32m----> 7\u001b[0m \u001b[38;5;28;01mwith\u001b[39;00m \u001b[43mmlflow\u001b[49m\u001b[38;5;241;43m.\u001b[39;49m\u001b[43mstart\u001b[49m\u001b[38;5;241m.\u001b[39mrun():\n\u001b[1;32m      9\u001b[0m     mlflow\u001b[38;5;241m.\u001b[39mset_tag(\u001b[38;5;124m\"\u001b[39m\u001b[38;5;124mtesting\u001b[39m\u001b[38;5;124m\"\u001b[39m, \u001b[38;5;124m\"\u001b[39m\u001b[38;5;124mMikhail\u001b[39m\u001b[38;5;124m\"\u001b[39m)\n\u001b[1;32m     10\u001b[0m     mlflow\u001b[38;5;241m.\u001b[39mset_tag(\u001b[38;5;124m\"\u001b[39m\u001b[38;5;124mlogistic-regression\u001b[39m\u001b[38;5;124m\"\u001b[39m,\u001b[38;5;124m\"\u001b[39m\u001b[38;5;124mmodel\u001b[39m\u001b[38;5;124m\"\u001b[39m)\n",
      "\u001b[0;31mAttributeError\u001b[0m: module 'mlflow' has no attribute 'start'"
     ]
    }
   ],
   "source": [
    "# build a model using optimized hyperparameters \n",
    "\n",
    "#!mlflow ui --backend-store-uri sqlite:///mlflow.db\n",
    "\n",
    "mlflow.sklearn.autolog()\n",
    "\n",
    "with mlflow.start.run():\n",
    "    \n",
    "    mlflow.set_tag(\"testing\", \"Mikhail\")\n",
    "    mlflow.set_tag(\"logistic-regression\",\"model\")\n",
    "    mlfoow.log_param(\"train-data\", \"Palmer-Penguin\")\n",
    "    \n",
    "    alpha = 1\n",
    "    mlflow.log_param(\"alpha\", alpha)\n",
    "\n",
    "    # Set random seed for reproducibility\n",
    "    np.random.seed(0)\n",
    "\n",
    "    # standartization, fitting and estimation of the errors\n",
    "    scaler = StandardScaler()\n",
    "    log_reg = LogisticRegression(C=1, dual=False,\n",
    "                                    fit_intercept=True, intercept_scaling=1,\n",
    "                                    l1_ratio=None, max_iter=100,\n",
    "                                    multi_class='ovr', n_jobs=None,\n",
    "                                    penalty='l2', random_state=None,\n",
    "                                    solver='lbfgs', tol=0.0001, verbose=0,\n",
    "                                    warm_start=False)\n",
    "    pipe_def_model = Pipeline([('scaler', scaler), ('log_reg', log_reg)])\n",
    "    pipe_def_model.fit(X_train, y_train)\n",
    "    err_train_def_model = pipe_def_model.score(X_train, y_train)\n",
    "    err_val_def_model = pipe_def_model.score(X_val, y_val)\n",
    "    y_pred_def_model = pipe_def_model.predict(X)\n",
    "    accuracy_def_model = pipe_def_model.score(X, y)\n",
    "\n",
    "    mlflow.log_metric(\"training-error\", err_train_def_model)\n",
    "    mlflow.log_metric(\"validation-error\", err_val_def_model)\n",
    "    mlflow.log_metrci(\"accuracy\", accuracy_def_model)\n",
    "    \n",
    "    # printing\n",
    "    print(f\"Accuracy of classification: {round(100*accuracy_def_model, 2)}%\")\n",
    "    print(f\"Training error: {err_train_def_model}\")\n",
    "    print(f\"Validation error: {err_val_def_model}\")\n",
    "    \n",
    "    model_name = \"model_lr.bin\"\n",
    "    with open(\"/\" + model_name, 'wb') as fout:\n",
    "        pickle.dump((cv, log_reg), fout)\n",
    "        \n",
    "    mlflow.log_artifact(local_path=\"/\" + model_name, artifact_path=\"/\")"
   ]
  },
  {
   "cell_type": "code",
   "execution_count": null,
   "metadata": {},
   "outputs": [],
   "source": [
    "# build a model using optimized hyperparameters \n",
    "\n",
    "# Set random seed for reproducibility\n",
    "np.random.seed(0)\n",
    "\n",
    "# standartization, fitting and estimation of the errors\n",
    "scaler = StandardScaler()\n",
    "log_reg = LogisticRegression(C=1, dual=False,\n",
    "                                    fit_intercept=True, intercept_scaling=1,\n",
    "                                    l1_ratio=None, max_iter=100,\n",
    "                                    multi_class='ovr', n_jobs=None,\n",
    "                                    penalty='l2', random_state=None,\n",
    "                                    solver='lbfgs', tol=0.0001, verbose=0,\n",
    "                                    warm_start=False)\n",
    "pipe_def_model = Pipeline([('scaler', scaler), ('log_reg', log_reg)])\n",
    "pipe_def_model.fit(X_train, y_train)\n",
    "err_train_def_model = pipe_def_model.score(X_train, y_train)\n",
    "err_val_def_model = pipe_def_model.score(X_val, y_val)\n",
    "y_pred_def_model = pipe_def_model.predict(X)\n",
    "accuracy_def_model = pipe_def_model.score(X, y)\n",
    "\n",
    "# printing\n",
    "print(f\"Accuracy of classification: {round(100*accuracy_def_model, 2)}%\")\n",
    "print(f\"Training error: {err_train_def_model}\")\n",
    "print(f\"Validation error: {err_val_def_model}\")"
   ]
  },
  {
   "cell_type": "code",
   "execution_count": null,
   "metadata": {
    "colab": {
     "base_uri": "https://localhost:8080/",
     "height": 416
    },
    "id": "STPNhhc6hdFs",
    "outputId": "84ecd815-1e01-4134-9005-429ee6f9789a"
   },
   "outputs": [],
   "source": [
    "from sklearn.metrics import plot_confusion_matrix\n",
    "\n",
    "# Define class labels for confusion matrices\n",
    "classes = ['YES','NO']\n",
    "\n",
    "# Define plotting options (title, normalization, axes index)\n",
    "options = [(\"Is it female?\", None, 0)]\n",
    "\n",
    "# Plot confusion matrices\n",
    "fig, axes = plt.subplots(1, 1, figsize=(15, 5))  # Create subplots (1 row, 2 columns)\n",
    "plt.rc('font', size=14)  # Set fontsize\n",
    "for title, normalize, ax_idx in options:\n",
    "    # main parameters of function `plot_confusion_matrix` are:\n",
    "    # trained classifier (log_reg), data (X, y)\n",
    "    disp = plot_confusion_matrix(pipe_def_model, X_val, y_val,\n",
    "                                 display_labels=classes,\n",
    "                                 cmap=plt.cm.Blues,\n",
    "                                 values_format='.0f', \n",
    "                                 normalize=None, ax=axes)\n",
    "    disp.ax_.set_title(title)\n",
    "fig.tight_layout()\n",
    "plt.show()"
   ]
  },
  {
   "cell_type": "code",
   "execution_count": null,
   "metadata": {
    "colab": {
     "base_uri": "https://localhost:8080/",
     "height": 416
    },
    "id": "4X0N0WGSifZn",
    "outputId": "42aa31b9-ef17-4270-b0a5-311731839dbd"
   },
   "outputs": [],
   "source": [
    "# Define class labels for confusion matrices\n",
    "classes = ['YES','NO']\n",
    "\n",
    "# Define plotting options (title, normalization, axes index)\n",
    "options = [(\"Is it female?\", 'true', 1)]\n",
    "\n",
    "# Plot confusion matrices\n",
    "fig, axes = plt.subplots(1, 1, figsize=(15, 5))  # Create subplots (1 row, 2 columns)\n",
    "plt.rc('font', size=14)  # Set fontsize\n",
    "for title, normalize, ax_idx in options:\n",
    "    # main parameters of function `plot_confusion_matrix` are:\n",
    "    # trained classifier (log_reg), data (X, y)\n",
    "    disp = plot_confusion_matrix(pipe_def_model, X_val, y_val,\n",
    "                                 display_labels=classes,\n",
    "                                 cmap=plt.cm.Blues,\n",
    "                                 values_format='.2f', \n",
    "                                 normalize=normalize, ax=axes)\n",
    "    disp.ax_.set_title(title)\n",
    "fig.tight_layout()\n",
    "plt.show()"
   ]
  },
  {
   "cell_type": "code",
   "execution_count": null,
   "metadata": {
    "colab": {
     "base_uri": "https://localhost:8080/"
    },
    "id": "9XnGDNwqlYhS",
    "outputId": "60faf3fc-a36f-40f0-c24c-981f49477a75"
   },
   "outputs": [],
   "source": [
    "# table view\n",
    "\n",
    "predicted_def_model = pipe_def_model.predict(X_val)\n",
    "cm_def_model=confusion_matrix(y_val, predicted_def_model)\n",
    "# outcome values order in sklearn\n",
    "tp, fn, fp, tn = confusion_matrix(y_val,predicted_def_model,labels=[0,1]).reshape(-1)\n",
    "print('Outcome values : \\n', tp, fn, fp, tn)\n",
    "\n",
    "matrix = classification_report(y_val,predicted_def_model,labels=[0,1])\n",
    "print('Classification report : \\n',matrix)"
   ]
  },
  {
   "cell_type": "code",
   "execution_count": null,
   "metadata": {
    "colab": {
     "base_uri": "https://localhost:8080/",
     "height": 269
    },
    "id": "9t09AtQdAu3p",
    "outputId": "4ee558fc-2a9d-4ddd-80f3-80f7f968c2b9"
   },
   "outputs": [],
   "source": [
    "# ROC\n",
    "\n",
    "y_pred_proba = pipe_def_model.predict_proba(X_val)[::,1]\n",
    "fpr, tpr, thresholds = metrics.roc_curve(y_val,  y_pred_proba)\n",
    "auc = metrics.roc_auc_score(y_val, y_pred_proba)\n",
    "plt.plot(fpr,tpr,label=\"AUC=\"+str(auc))\n",
    "plt.legend(loc=4)\n",
    "plt.show()"
   ]
  }
 ],
 "metadata": {
  "colab": {
   "collapsed_sections": [],
   "name": "logistic_regression_github.ipynb",
   "provenance": []
  },
  "kernelspec": {
   "display_name": "Python 3 (ipykernel)",
   "language": "python",
   "name": "python3"
  },
  "language_info": {
   "codemirror_mode": {
    "name": "ipython",
    "version": 3
   },
   "file_extension": ".py",
   "mimetype": "text/x-python",
   "name": "python",
   "nbconvert_exporter": "python",
   "pygments_lexer": "ipython3",
   "version": "3.10.5"
  }
 },
 "nbformat": 4,
 "nbformat_minor": 4
}
